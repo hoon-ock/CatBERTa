{
 "cells": [
  {
   "cell_type": "code",
   "execution_count": 1,
   "metadata": {},
   "outputs": [],
   "source": [
    "import os\n",
    "import random\n",
    "import pickle"
   ]
  },
  {
   "attachments": {},
   "cell_type": "markdown",
   "metadata": {},
   "source": [
    "# Anomaly Filter"
   ]
  },
  {
   "cell_type": "code",
   "execution_count": 2,
   "metadata": {},
   "outputs": [],
   "source": [
    "meta_path = '../metadata/oc20_meta/oc20_data_metadata.pkl'\n",
    "meta = pickle.load(open(meta_path,'rb'))"
   ]
  },
  {
   "cell_type": "code",
   "execution_count": 3,
   "metadata": {},
   "outputs": [],
   "source": [
    "train_path = '/home/jovyan/shared-datasets/OC20/trajs/train_02_01/'\n",
    "file_list = os.listdir(train_path)\n",
    "train_ids, diss_list, desorp_list, recon_list, etc_list  = [], [], [], [], []\n",
    "\n",
    "for f in file_list:\n",
    "    if '.traj' in f:\n",
    "        code = f.split('.')[0]\n",
    "        if meta[code]['anomaly'] == 0:\n",
    "            train_ids.append(code)\n",
    "        elif meta[code]['anomaly'] == 1:\n",
    "            diss_list.append(code)\n",
    "        elif meta[code]['anomaly'] == 2:\n",
    "            desorp_list.append(code)\n",
    "        elif meta[code]['anomaly'] == 3:\n",
    "            recon_list.append(code)\n",
    "        elif meta[code]['anomaly'] == 4:\n",
    "            etc_list.append(code)\n",
    "\n",
    "anomaly_ids = {1: diss_list, 2: desorp_list, 3: recon_list, 4: etc_list}       \n",
    "\n"
   ]
  },
  {
   "cell_type": "code",
   "execution_count": 4,
   "metadata": {},
   "outputs": [
    {
     "data": {
      "text/plain": [
       "462858"
      ]
     },
     "execution_count": 4,
     "metadata": {},
     "output_type": "execute_result"
    }
   ],
   "source": [
    "len(train_ids)"
   ]
  },
  {
   "cell_type": "code",
   "execution_count": 5,
   "metadata": {},
   "outputs": [
    {
     "data": {
      "text/plain": [
       "(113256, 32293, 25219, 6455)"
      ]
     },
     "execution_count": 5,
     "metadata": {},
     "output_type": "execute_result"
    }
   ],
   "source": [
    "len(diss_list), len(desorp_list), len(recon_list), len(etc_list)"
   ]
  },
  {
   "cell_type": "code",
   "execution_count": 11,
   "metadata": {},
   "outputs": [],
   "source": [
    "with open('../metadata/filter_ids/normal_train_ids.pkl', 'wb') as f:\n",
    "    pickle.dump(train_ids, f)"
   ]
  },
  {
   "cell_type": "code",
   "execution_count": 13,
   "metadata": {},
   "outputs": [],
   "source": [
    "with open('../metadata/filter_ids/anomaly_train_ids.pkl', 'wb') as f:\n",
    "    pickle.dump(anomaly_ids, f)"
   ]
  },
  {
   "attachments": {},
   "cell_type": "markdown",
   "metadata": {},
   "source": [
    "# Train"
   ]
  },
  {
   "cell_type": "code",
   "execution_count": 9,
   "metadata": {},
   "outputs": [],
   "source": [
    "# random sampling\n",
    "\n",
    "# seed = 0\n",
    "# sample_number = 1000\n",
    "# random.seed(seed)\n",
    "# train_split_ids = random.sample(train_ids,sample_number)\n",
    "\n",
    "\n",
    "# save_path = f'../metadata/split_ids/train/{sample_number}/'\n",
    "# if not os.path.exists(save_path):\n",
    "#     os.makedirs(save_path)\n",
    "\n",
    "# with open(save_path+f'train_{seed}.pkl', 'wb') as f:\n",
    "#     pickle.dump(train_split_ids, f)"
   ]
  },
  {
   "cell_type": "code",
   "execution_count": 6,
   "metadata": {},
   "outputs": [],
   "source": [
    "# save all\n",
    "save_path = f'../metadata/split_ids/train/'\n",
    "if not os.path.exists(save_path):\n",
    "    os.makedirs(save_path)\n",
    "\n",
    "with open(save_path+f'train_ids.pkl', 'wb') as f:\n",
    "    pickle.dump(train_ids, f)"
   ]
  },
  {
   "attachments": {},
   "cell_type": "markdown",
   "metadata": {},
   "source": [
    "# Validation"
   ]
  },
  {
   "cell_type": "code",
   "execution_count": 7,
   "metadata": {},
   "outputs": [
    {
     "data": {
      "text/html": [
       "<div>\n",
       "<style scoped>\n",
       "    .dataframe tbody tr th:only-of-type {\n",
       "        vertical-align: middle;\n",
       "    }\n",
       "\n",
       "    .dataframe tbody tr th {\n",
       "        vertical-align: top;\n",
       "    }\n",
       "\n",
       "    .dataframe thead th {\n",
       "        text-align: right;\n",
       "    }\n",
       "</style>\n",
       "<table border=\"1\" class=\"dataframe\">\n",
       "  <thead>\n",
       "    <tr style=\"text-align: right;\">\n",
       "      <th></th>\n",
       "      <th>random_id</th>\n",
       "      <th>DFT_energy</th>\n",
       "      <th>bulk_id</th>\n",
       "      <th>miller</th>\n",
       "      <th>shift</th>\n",
       "      <th>top</th>\n",
       "      <th>adsorbate</th>\n",
       "      <th>site</th>\n",
       "      <th>formula</th>\n",
       "      <th>stoichiometry</th>\n",
       "      <th>distribution</th>\n",
       "      <th>bulk_e_above_hull</th>\n",
       "      <th>bulk_band_gap</th>\n",
       "    </tr>\n",
       "  </thead>\n",
       "  <tbody>\n",
       "    <tr>\n",
       "      <th>460328</th>\n",
       "      <td>random1700380</td>\n",
       "      <td>-0.401909</td>\n",
       "      <td>mp-990232</td>\n",
       "      <td>(1, 0, 0)</td>\n",
       "      <td>0.051</td>\n",
       "      <td>True</td>\n",
       "      <td>*NHNH</td>\n",
       "      <td>(1.57, 5.42, 25.5)</td>\n",
       "      <td>Mn1Au4</td>\n",
       "      <td>{'Mn': 1.0, 'Au': 4.0}</td>\n",
       "      <td>id</td>\n",
       "      <td>0.000000</td>\n",
       "      <td>0.0000</td>\n",
       "    </tr>\n",
       "    <tr>\n",
       "      <th>460329</th>\n",
       "      <td>random2320054</td>\n",
       "      <td>-3.992470</td>\n",
       "      <td>mp-1215213</td>\n",
       "      <td>(1, 1, 0)</td>\n",
       "      <td>0.063</td>\n",
       "      <td>False</td>\n",
       "      <td>*CH2CH3</td>\n",
       "      <td>(5.92, 0.76, 25.97)</td>\n",
       "      <td>Zr1Ta1Cr4</td>\n",
       "      <td>{'Zr': 1.0, 'Ta': 1.0, 'Cr': 4.0}</td>\n",
       "      <td>id</td>\n",
       "      <td>0.003252</td>\n",
       "      <td>0.0000</td>\n",
       "    </tr>\n",
       "    <tr>\n",
       "      <th>460330</th>\n",
       "      <td>random662687</td>\n",
       "      <td>0.920258</td>\n",
       "      <td>mp-1216946</td>\n",
       "      <td>(1, 0, 0)</td>\n",
       "      <td>0.123</td>\n",
       "      <td>True</td>\n",
       "      <td>*OHNH2</td>\n",
       "      <td>(2.18, 2.06, 23.01)</td>\n",
       "      <td>Ti4Mn4Cr4</td>\n",
       "      <td>{'Ti': 1.0, 'Mn': 1.0, 'Cr': 1.0}</td>\n",
       "      <td>id</td>\n",
       "      <td>0.000000</td>\n",
       "      <td>0.0000</td>\n",
       "    </tr>\n",
       "    <tr>\n",
       "      <th>460331</th>\n",
       "      <td>random1924657</td>\n",
       "      <td>0.992241</td>\n",
       "      <td>mp-31452</td>\n",
       "      <td>(2, 1, 1)</td>\n",
       "      <td>0.062</td>\n",
       "      <td>False</td>\n",
       "      <td>*N2</td>\n",
       "      <td>(7.85, 7.57, 19.43)</td>\n",
       "      <td>Zr1Ni1Bi1</td>\n",
       "      <td>{'Zr': 1.0, 'Ni': 1.0, 'Bi': 1.0}</td>\n",
       "      <td>id</td>\n",
       "      <td>0.070902</td>\n",
       "      <td>0.0000</td>\n",
       "    </tr>\n",
       "    <tr>\n",
       "      <th>460332</th>\n",
       "      <td>random1507405</td>\n",
       "      <td>-0.051427</td>\n",
       "      <td>mp-1215529</td>\n",
       "      <td>(2, 1, -2)</td>\n",
       "      <td>0.084</td>\n",
       "      <td>True</td>\n",
       "      <td>*OH</td>\n",
       "      <td>(8.64, 7.42, 19.82)</td>\n",
       "      <td>Zn1Cu3</td>\n",
       "      <td>{'Zn': 1.0, 'Cu': 3.0}</td>\n",
       "      <td>id</td>\n",
       "      <td>0.024972</td>\n",
       "      <td>0.0000</td>\n",
       "    </tr>\n",
       "    <tr>\n",
       "      <th>...</th>\n",
       "      <td>...</td>\n",
       "      <td>...</td>\n",
       "      <td>...</td>\n",
       "      <td>...</td>\n",
       "      <td>...</td>\n",
       "      <td>...</td>\n",
       "      <td>...</td>\n",
       "      <td>...</td>\n",
       "      <td>...</td>\n",
       "      <td>...</td>\n",
       "      <td>...</td>\n",
       "      <td>...</td>\n",
       "      <td>...</td>\n",
       "    </tr>\n",
       "    <tr>\n",
       "      <th>560177</th>\n",
       "      <td>random1638018</td>\n",
       "      <td>4.145774</td>\n",
       "      <td>mp-12550</td>\n",
       "      <td>(0, 0, 1)</td>\n",
       "      <td>0.250</td>\n",
       "      <td>False</td>\n",
       "      <td>*ONH</td>\n",
       "      <td>(4.98, 7.15, 15.28)</td>\n",
       "      <td>Al1Cu1Pt2</td>\n",
       "      <td>{'Al': 1.0, 'Cu': 1.0, 'Pt': 2.0}</td>\n",
       "      <td>ood_cat</td>\n",
       "      <td>0.000000</td>\n",
       "      <td>0.0000</td>\n",
       "    </tr>\n",
       "    <tr>\n",
       "      <th>560178</th>\n",
       "      <td>random1885680</td>\n",
       "      <td>4.251310</td>\n",
       "      <td>mp-8439</td>\n",
       "      <td>(2, 2, 1)</td>\n",
       "      <td>0.142</td>\n",
       "      <td>False</td>\n",
       "      <td>*NO2NO2</td>\n",
       "      <td>(3.06, 6.9, 16.64)</td>\n",
       "      <td>Ca10Al4Sb12</td>\n",
       "      <td>{'Ca': 5.0, 'Al': 2.0, 'Sb': 6.0}</td>\n",
       "      <td>ood_cat</td>\n",
       "      <td>0.000000</td>\n",
       "      <td>0.1684</td>\n",
       "    </tr>\n",
       "    <tr>\n",
       "      <th>560179</th>\n",
       "      <td>random2186953</td>\n",
       "      <td>-2.622036</td>\n",
       "      <td>mp-2772</td>\n",
       "      <td>(2, 0, 1)</td>\n",
       "      <td>0.023</td>\n",
       "      <td>True</td>\n",
       "      <td>*COCH2O</td>\n",
       "      <td>(1.34, 1.2, 24.23)</td>\n",
       "      <td>Zr4Al8</td>\n",
       "      <td>{'Zr': 1.0, 'Al': 2.0}</td>\n",
       "      <td>ood_cat</td>\n",
       "      <td>0.000000</td>\n",
       "      <td>0.0000</td>\n",
       "    </tr>\n",
       "    <tr>\n",
       "      <th>560180</th>\n",
       "      <td>random506877</td>\n",
       "      <td>-0.589995</td>\n",
       "      <td>mp-998945</td>\n",
       "      <td>(1, 1, 1)</td>\n",
       "      <td>0.083</td>\n",
       "      <td>True</td>\n",
       "      <td>*N*NH</td>\n",
       "      <td>(1.59, 1.49, 21.29)</td>\n",
       "      <td>Ti1Ni1</td>\n",
       "      <td>{'Ti': 1.0, 'Ni': 1.0}</td>\n",
       "      <td>ood_cat</td>\n",
       "      <td>0.066641</td>\n",
       "      <td>0.0000</td>\n",
       "    </tr>\n",
       "    <tr>\n",
       "      <th>560181</th>\n",
       "      <td>random449586</td>\n",
       "      <td>-3.413943</td>\n",
       "      <td>mp-1067248</td>\n",
       "      <td>(0, 1, 2)</td>\n",
       "      <td>0.057</td>\n",
       "      <td>True</td>\n",
       "      <td>*CCH3</td>\n",
       "      <td>(1.47, 15.56, 24.86)</td>\n",
       "      <td>Ti2Ni2</td>\n",
       "      <td>{'Ti': 1.0, 'Ni': 1.0}</td>\n",
       "      <td>ood_cat</td>\n",
       "      <td>0.002007</td>\n",
       "      <td>0.0000</td>\n",
       "    </tr>\n",
       "  </tbody>\n",
       "</table>\n",
       "<p>99829 rows × 13 columns</p>\n",
       "</div>"
      ],
      "text/plain": [
       "            random_id  DFT_energy     bulk_id      miller  shift    top  \\\n",
       "460328  random1700380   -0.401909   mp-990232   (1, 0, 0)  0.051   True   \n",
       "460329  random2320054   -3.992470  mp-1215213   (1, 1, 0)  0.063  False   \n",
       "460330   random662687    0.920258  mp-1216946   (1, 0, 0)  0.123   True   \n",
       "460331  random1924657    0.992241    mp-31452   (2, 1, 1)  0.062  False   \n",
       "460332  random1507405   -0.051427  mp-1215529  (2, 1, -2)  0.084   True   \n",
       "...               ...         ...         ...         ...    ...    ...   \n",
       "560177  random1638018    4.145774    mp-12550   (0, 0, 1)  0.250  False   \n",
       "560178  random1885680    4.251310     mp-8439   (2, 2, 1)  0.142  False   \n",
       "560179  random2186953   -2.622036     mp-2772   (2, 0, 1)  0.023   True   \n",
       "560180   random506877   -0.589995   mp-998945   (1, 1, 1)  0.083   True   \n",
       "560181   random449586   -3.413943  mp-1067248   (0, 1, 2)  0.057   True   \n",
       "\n",
       "       adsorbate                  site      formula  \\\n",
       "460328     *NHNH    (1.57, 5.42, 25.5)       Mn1Au4   \n",
       "460329   *CH2CH3   (5.92, 0.76, 25.97)    Zr1Ta1Cr4   \n",
       "460330    *OHNH2   (2.18, 2.06, 23.01)    Ti4Mn4Cr4   \n",
       "460331       *N2   (7.85, 7.57, 19.43)    Zr1Ni1Bi1   \n",
       "460332       *OH   (8.64, 7.42, 19.82)       Zn1Cu3   \n",
       "...          ...                   ...          ...   \n",
       "560177      *ONH   (4.98, 7.15, 15.28)    Al1Cu1Pt2   \n",
       "560178   *NO2NO2    (3.06, 6.9, 16.64)  Ca10Al4Sb12   \n",
       "560179   *COCH2O    (1.34, 1.2, 24.23)       Zr4Al8   \n",
       "560180     *N*NH   (1.59, 1.49, 21.29)       Ti1Ni1   \n",
       "560181     *CCH3  (1.47, 15.56, 24.86)       Ti2Ni2   \n",
       "\n",
       "                            stoichiometry distribution  bulk_e_above_hull  \\\n",
       "460328             {'Mn': 1.0, 'Au': 4.0}           id           0.000000   \n",
       "460329  {'Zr': 1.0, 'Ta': 1.0, 'Cr': 4.0}           id           0.003252   \n",
       "460330  {'Ti': 1.0, 'Mn': 1.0, 'Cr': 1.0}           id           0.000000   \n",
       "460331  {'Zr': 1.0, 'Ni': 1.0, 'Bi': 1.0}           id           0.070902   \n",
       "460332             {'Zn': 1.0, 'Cu': 3.0}           id           0.024972   \n",
       "...                                   ...          ...                ...   \n",
       "560177  {'Al': 1.0, 'Cu': 1.0, 'Pt': 2.0}      ood_cat           0.000000   \n",
       "560178  {'Ca': 5.0, 'Al': 2.0, 'Sb': 6.0}      ood_cat           0.000000   \n",
       "560179             {'Zr': 1.0, 'Al': 2.0}      ood_cat           0.000000   \n",
       "560180             {'Ti': 1.0, 'Ni': 1.0}      ood_cat           0.066641   \n",
       "560181             {'Ti': 1.0, 'Ni': 1.0}      ood_cat           0.002007   \n",
       "\n",
       "        bulk_band_gap  \n",
       "460328         0.0000  \n",
       "460329         0.0000  \n",
       "460330         0.0000  \n",
       "460331         0.0000  \n",
       "460332         0.0000  \n",
       "...               ...  \n",
       "560177         0.0000  \n",
       "560178         0.1684  \n",
       "560179         0.0000  \n",
       "560180         0.0000  \n",
       "560181         0.0000  \n",
       "\n",
       "[99829 rows x 13 columns]"
      ]
     },
     "execution_count": 7,
     "metadata": {},
     "output_type": "execute_result"
    }
   ],
   "source": [
    "val_map=pickle.load(open('../metadata/oc20_meta/oc20_val_data.pkl', 'rb'))\n",
    "val_map #.iloc[9000:9005]"
   ]
  },
  {
   "cell_type": "code",
   "execution_count": 14,
   "metadata": {},
   "outputs": [],
   "source": [
    "val_ids, diss_list, desorp_list, recon_list, etc_list  = [], [], [], [], []\n",
    "\n",
    "for i in val_map.index:\n",
    "    code = val_map.loc[i]['random_id']\n",
    "    if meta[code]['anomaly'] == 0:\n",
    "        val_ids.append(code)\n",
    "    elif meta[code]['anomaly'] == 1:\n",
    "        diss_list.append(code)\n",
    "    elif meta[code]['anomaly'] == 2:\n",
    "        desorp_list.append(code)\n",
    "    elif meta[code]['anomaly'] == 3:\n",
    "        recon_list.append(code)\n",
    "    elif meta[code]['anomaly'] == 4:\n",
    "        etc_list.append(code)\n",
    "\n",
    "anomaly_ids = {1: diss_list, 2: desorp_list, 3: recon_list, 4: etc_list}       \n"
   ]
  },
  {
   "cell_type": "code",
   "execution_count": 15,
   "metadata": {},
   "outputs": [
    {
     "name": "stdout",
     "output_type": "stream",
     "text": [
      "77875\n",
      "14925 3879 2735 415\n"
     ]
    }
   ],
   "source": [
    "print(len(val_ids))\n",
    "print(len(diss_list), len(desorp_list), len(recon_list), len(etc_list))"
   ]
  },
  {
   "cell_type": "code",
   "execution_count": 16,
   "metadata": {},
   "outputs": [],
   "source": [
    "with open('../metadata/split_ids/normal_val_ids.pkl', 'wb') as f:\n",
    "    pickle.dump(val_ids, f)\n",
    "\n",
    "with open('../metadata/split_ids/anomaly_val_ids.pkl', 'wb') as f:\n",
    "    pickle.dump(anomaly_ids, f)"
   ]
  },
  {
   "cell_type": "code",
   "execution_count": 17,
   "metadata": {},
   "outputs": [],
   "source": [
    "id_list, ood_cat_list, ood_ads_list, ood_both_list = [], [], [], []\n",
    "for i in val_map.index:\n",
    "    #print(i)\n",
    "    if val_map.loc[i]['random_id'] in val_ids:\n",
    "        if val_map.loc[i]['distribution'] == 'id':\n",
    "            id_list.append(val_map.loc[i]['random_id'])\n",
    "        elif val_map.loc[i]['distribution'] == 'ood_cat':\n",
    "            ood_cat_list.append(val_map.loc[i]['random_id'])\n",
    "        elif val_map.loc[i]['distribution'] == 'ood_ads':\n",
    "            ood_ads_list.append(val_map.loc[i]['random_id'])\n",
    "        else: # val_map.loc[i]['distribution'] == 'ood_both':\n",
    "            ood_both_list.append(val_map.loc[i]['random_id'])"
   ]
  },
  {
   "cell_type": "code",
   "execution_count": 19,
   "metadata": {},
   "outputs": [
    {
     "name": "stdout",
     "output_type": "stream",
     "text": [
      "matching\n"
     ]
    }
   ],
   "source": [
    "if len(val_ids) == len(id_list) + len(ood_cat_list) + len(ood_ads_list)+ len(ood_both_list):\n",
    "    print('matching')"
   ]
  },
  {
   "cell_type": "code",
   "execution_count": 20,
   "metadata": {},
   "outputs": [],
   "source": [
    "with open('../metadata/split_ids/val/full_normal_id.pkl', 'wb') as f:\n",
    "    pickle.dump(id_list, f)\n",
    "\n",
    "with open('../metadata/split_ids/val/full_noraml_ood_cat.pkl', 'wb') as f:\n",
    "    pickle.dump(ood_cat_list, f)\n",
    "\n",
    "with open('../metadata/split_ids/val/full_normal_ood_ads.pkl', 'wb') as f:\n",
    "    pickle.dump(ood_ads_list, f)\n",
    "\n",
    "with open('../metadata/split_ids/val/full_normal_ood_both.pkl', 'wb') as f:\n",
    "    pickle.dump(ood_both_list, f)"
   ]
  },
  {
   "cell_type": "code",
   "execution_count": 21,
   "metadata": {},
   "outputs": [],
   "source": [
    "seed = 0\n",
    "sample_number = 50\n",
    "random.seed(seed)\n",
    "val_id = random.sample(id_list,sample_number)\n",
    "val_ood_cat = random.sample(ood_cat_list,sample_number)\n",
    "val_ood_ads = random.sample(ood_ads_list,sample_number)\n",
    "val_ood_both = random.sample(ood_both_list,sample_number)\n",
    "val_all = val_id + val_ood_cat + val_ood_ads + val_ood_both\n",
    "\n",
    "\n",
    "save_path = f'./data_split/val/{int(4*sample_number)}/'\n",
    "if not os.path.exists(save_path):\n",
    "    os.makedirs(save_path)\n",
    "\n",
    "with open(save_path+f'val_id_{seed}.pkl', 'wb') as f:\n",
    "    pickle.dump(val_id, f)\n",
    "\n",
    "with open(save_path+f'val_ood_cat_{seed}.pkl', 'wb') as f:\n",
    "    pickle.dump(val_ood_cat, f)\n",
    "\n",
    "with open(save_path+f'val_ood_ads_{seed}.pkl', 'wb') as f:\n",
    "    pickle.dump(val_ood_ads, f)\n",
    "\n",
    "with open(save_path+f'val_ood_both_{seed}.pkl', 'wb') as f:\n",
    "    pickle.dump(val_ood_both, f)\n",
    "\n",
    "with open(save_path+f'val_all_{seed}.pkl', 'wb') as f:\n",
    "    pickle.dump(val_all, f)\n"
   ]
  }
 ],
 "metadata": {
  "kernelspec": {
   "display_name": "base",
   "language": "python",
   "name": "python3"
  },
  "language_info": {
   "codemirror_mode": {
    "name": "ipython",
    "version": 3
   },
   "file_extension": ".py",
   "mimetype": "text/x-python",
   "name": "python",
   "nbconvert_exporter": "python",
   "pygments_lexer": "ipython3",
   "version": "3.9.15"
  },
  "orig_nbformat": 4
 },
 "nbformat": 4,
 "nbformat_minor": 2
}
