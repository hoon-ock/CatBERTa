{
 "cells": [
  {
   "cell_type": "code",
   "execution_count": 31,
   "metadata": {},
   "outputs": [],
   "source": [
    "from transformers import pipeline, RobertaTokenizerFast\n",
    "import torch\n",
    "from transformers import RobertaModel, RobertaForMaskedLM, RobertaConfig\n",
    "import numpy as np"
   ]
  },
  {
   "attachments": {},
   "cell_type": "markdown",
   "metadata": {},
   "source": [
    "# Load Pre-trained Model and tokenizer"
   ]
  },
  {
   "cell_type": "code",
   "execution_count": 8,
   "metadata": {},
   "outputs": [],
   "source": [
    "tokenizer = RobertaTokenizerFast.from_pretrained('./tokenizer', max_len=512)"
   ]
  },
  {
   "cell_type": "code",
   "execution_count": 9,
   "metadata": {},
   "outputs": [],
   "source": [
    "# Need to set the same config with the training setting\n",
    "config = RobertaConfig(\n",
    "    vocab_size=tokenizer.vocab_size,\n",
    "    max_position_embeddings=514,\n",
    "    hidden_size=768,\n",
    "    num_attention_heads=12,\n",
    "    num_hidden_layers=6,\n",
    "    type_vocab_size=1,\n",
    ")"
   ]
  },
  {
   "cell_type": "code",
   "execution_count": 32,
   "metadata": {},
   "outputs": [],
   "source": [
    "pretrained_model_path = \"./checkpoint/pretrain/roberta.pt\" #run20230522_174905\n",
    "model = RobertaForMaskedLM.from_pretrained(pretrained_model_path, config=config)\n",
    "#model = RobertaForMaskedLM(config)\n",
    "#model.load_state_dict(torch.load(pretrained_model_path))"
   ]
  },
  {
   "attachments": {},
   "cell_type": "markdown",
   "metadata": {},
   "source": [
    "# Fill Mask"
   ]
  },
  {
   "cell_type": "code",
   "execution_count": 33,
   "metadata": {},
   "outputs": [],
   "source": [
    "fill = pipeline('fill-mask', model=model, tokenizer=tokenizer)"
   ]
  },
  {
   "cell_type": "code",
   "execution_count": 41,
   "metadata": {},
   "outputs": [
    {
     "data": {
      "text/plain": [
       "{'score': 0.33100026845932007,\n",
       " 'token': 39,\n",
       " 'token_str': 'C',\n",
       " 'sequence': 'Adsorbate *C is adsorbed on the catalytic surface P2Fe2Ta8 (mp-22444) with a Miller Index of (1, 1, 0). The O atom of the adsorbate is placed on the hollow site and is binding to the catalytic surface atoms Ta, Fe, Fe.\\n\\nThe adsorbate molecule OCH2CH3 is the chemical formula for ethoxy, which is a radical group with the molecular formula C2H5O. Ethoxy has a linear structure and the bonding type between the C2H5O radical and the adsorption site on the catalyst depends on the specific catalytic surface. Typically, the interaction between the ethoxy molecule and the catalyst is a type of weak physical interaction called physisorption, which is primarily van der Waals forces such as London dispersion forces and dipole-induced dipole forces.\\n\\nThe bond angles and lengths in the ethoxy molecule are determined by the VSEPR (Valence Shell Electron Pair Repulsion) theory. The C-O bond length is approximately 1.42 Å, while the C-C bond length is approximately 1.54 Å. The bond angle between the C-O-C atoms is approximately 109.5°, which is close to the ideal tetrahedral angle.\\n\\nThe orbital characteristics of the ethoxy molecule involve the hybridization of the carbon atoms. The carbon atoms in ethoxy have sp3 hybridization, meaning that they each have four hybrid orbitals that are directed towards the corners of a tetrahedron. One of these hybrid orbitals overlaps with the oxygen atom to form the C-O bond, while the other three hybrid orbitals overlap with the carbon atom in the C-C bond.\\n\\nThe dipole moment of the ethoxy molecule is 1.25 D (Debye), which indicates a moderate degree of polarity. This dipole moment arises due to the difference in electronegativity between the carbon and oxygen atoms, causing a partial positive charge on the carbon atom and a partial negative charge on the oxygen atom.\\n\\nTa₄FeP is Khatyrkite-derived structured and crystallizes in the tetragonal P4/mcc space group. Ta is bonded in a 4-coordinate geometry to two equivalent Fe and two equivalent P atoms. Both Ta–Fe bond lengths are 2.57 Å. Both Ta–P bond lengths are 2.66 Å. Fe is bonded in a 10-coordinate geometry to eight equivalent Ta and two equivalent Fe atoms. Both Fe–Fe bond lengths are 2.55 Å. P is bonded in a 10-coordinate geometry to eight equivalent Ta and two equivalent P atoms. Both P–P bond lengths are 2.55 Å.'}"
      ]
     },
     "execution_count": 41,
     "metadata": {},
     "output_type": "execute_result"
    }
   ],
   "source": [
    "fill(f'Adsorbate *{fill.tokenizer.mask_token} is adsorbed on the catalytic surface P2Fe2Ta8 (mp-22444) with a Miller Index of (1, 1, 0). The O atom of the adsorbate is placed on the hollow site and is binding to the catalytic surface atoms Ta, Fe, Fe.\\n\\nThe adsorbate molecule OCH2CH3 is the chemical formula for ethoxy, which is a radical group with the molecular formula C2H5O. Ethoxy has a linear structure and the bonding type between the C2H5O radical and the adsorption site on the catalyst depends on the specific catalytic surface. Typically, the interaction between the ethoxy molecule and the catalyst is a type of weak physical interaction called physisorption, which is primarily van der Waals forces such as London dispersion forces and dipole-induced dipole forces.\\n\\nThe bond angles and lengths in the ethoxy molecule are determined by the VSEPR (Valence Shell Electron Pair Repulsion) theory. The C-O bond length is approximately 1.42 Å, while the C-C bond length is approximately 1.54 Å. The bond angle between the C-O-C atoms is approximately 109.5°, which is close to the ideal tetrahedral angle.\\n\\nThe orbital characteristics of the ethoxy molecule involve the hybridization of the carbon atoms. The carbon atoms in ethoxy have sp3 hybridization, meaning that they each have four hybrid orbitals that are directed towards the corners of a tetrahedron. One of these hybrid orbitals overlaps with the oxygen atom to form the C-O bond, while the other three hybrid orbitals overlap with the carbon atom in the C-C bond.\\n\\nThe dipole moment of the ethoxy molecule is 1.25 D (Debye), which indicates a moderate degree of polarity. This dipole moment arises due to the difference in electronegativity between the carbon and oxygen atoms, causing a partial positive charge on the carbon atom and a partial negative charge on the oxygen atom.\\n\\nTa₄FeP is Khatyrkite-derived structured and crystallizes in the tetragonal P4/mcc space group. Ta is bonded in a 4-coordinate geometry to two equivalent Fe and two equivalent P atoms. Both Ta–Fe bond lengths are 2.57 Å. Both Ta–P bond lengths are 2.66 Å. Fe is bonded in a 10-coordinate geometry to eight equivalent Ta and two equivalent Fe atoms. Both Fe–Fe bond lengths are 2.55 Å. P is bonded in a 10-coordinate geometry to eight equivalent Ta and two equivalent P atoms. Both P–P bond lengths are 2.55 Å.')[0]"
   ]
  },
  {
   "cell_type": "code",
   "execution_count": 42,
   "metadata": {},
   "outputs": [
    {
     "data": {
      "text/plain": [
       "{'score': 0.05492823198437691,\n",
       " 'token': 511,\n",
       " 'token_str': 'mp',\n",
       " 'sequence': 'Adsorbate *CH is adsorbed on the catalytic surface P2Fe2Ta8 (mp) with a Miller Index of (1, 1, 0). The O atom of the adsorbate is placed on the hollow site and is binding to the catalytic surface atoms Ta, Fe, Fe.\\n\\nThe adsorbate molecule OCH2CH3 is the chemical formula for ethoxy, which is a radical group with the molecular formula C2H5O. Ethoxy has a linear structure and the bonding type between the C2H5O radical and the adsorption site on the catalyst depends on the specific catalytic surface. Typically, the interaction between the ethoxy molecule and the catalyst is a type of weak physical interaction called physisorption, which is primarily van der Waals forces such as London dispersion forces and dipole-induced dipole forces.\\n\\nThe bond angles and lengths in the ethoxy molecule are determined by the VSEPR (Valence Shell Electron Pair Repulsion) theory. The C-O bond length is approximately 1.42 Å, while the C-C bond length is approximately 1.54 Å. The bond angle between the C-O-C atoms is approximately 109.5°, which is close to the ideal tetrahedral angle.\\n\\nThe orbital characteristics of the ethoxy molecule involve the hybridization of the carbon atoms. The carbon atoms in ethoxy have sp3 hybridization, meaning that they each have four hybrid orbitals that are directed towards the corners of a tetrahedron. One of these hybrid orbitals overlaps with the oxygen atom to form the C-O bond, while the other three hybrid orbitals overlap with the carbon atom in the C-C bond.\\n\\nThe dipole moment of the ethoxy molecule is 1.25 D (Debye), which indicates a moderate degree of polarity. This dipole moment arises due to the difference in electronegativity between the carbon and oxygen atoms, causing a partial positive charge on the carbon atom and a partial negative charge on the oxygen atom.\\n\\nTa₄FeP is Khatyrkite-derived structured and crystallizes in the tetragonal P4/mcc space group. Ta is bonded in a 4-coordinate geometry to two equivalent Fe and two equivalent P atoms. Both Ta–Fe bond lengths are 2.57 Å. Both Ta–P bond lengths are 2.66 Å. Fe is bonded in a 10-coordinate geometry to eight equivalent Ta and two equivalent Fe atoms. Both Fe–Fe bond lengths are 2.55 Å. P is bonded in a 10-coordinate geometry to eight equivalent Ta and two equivalent P atoms. Both P–P bond lengths are 2.55 Å.'}"
      ]
     },
     "execution_count": 42,
     "metadata": {},
     "output_type": "execute_result"
    }
   ],
   "source": [
    "fill(f'Adsorbate *CH is adsorbed on the catalytic surface P2Fe2Ta8 ({fill.tokenizer.mask_token}) with a Miller Index of (1, 1, 0). The O atom of the adsorbate is placed on the hollow site and is binding to the catalytic surface atoms Ta, Fe, Fe.\\n\\nThe adsorbate molecule OCH2CH3 is the chemical formula for ethoxy, which is a radical group with the molecular formula C2H5O. Ethoxy has a linear structure and the bonding type between the C2H5O radical and the adsorption site on the catalyst depends on the specific catalytic surface. Typically, the interaction between the ethoxy molecule and the catalyst is a type of weak physical interaction called physisorption, which is primarily van der Waals forces such as London dispersion forces and dipole-induced dipole forces.\\n\\nThe bond angles and lengths in the ethoxy molecule are determined by the VSEPR (Valence Shell Electron Pair Repulsion) theory. The C-O bond length is approximately 1.42 Å, while the C-C bond length is approximately 1.54 Å. The bond angle between the C-O-C atoms is approximately 109.5°, which is close to the ideal tetrahedral angle.\\n\\nThe orbital characteristics of the ethoxy molecule involve the hybridization of the carbon atoms. The carbon atoms in ethoxy have sp3 hybridization, meaning that they each have four hybrid orbitals that are directed towards the corners of a tetrahedron. One of these hybrid orbitals overlaps with the oxygen atom to form the C-O bond, while the other three hybrid orbitals overlap with the carbon atom in the C-C bond.\\n\\nThe dipole moment of the ethoxy molecule is 1.25 D (Debye), which indicates a moderate degree of polarity. This dipole moment arises due to the difference in electronegativity between the carbon and oxygen atoms, causing a partial positive charge on the carbon atom and a partial negative charge on the oxygen atom.\\n\\nTa₄FeP is Khatyrkite-derived structured and crystallizes in the tetragonal P4/mcc space group. Ta is bonded in a 4-coordinate geometry to two equivalent Fe and two equivalent P atoms. Both Ta–Fe bond lengths are 2.57 Å. Both Ta–P bond lengths are 2.66 Å. Fe is bonded in a 10-coordinate geometry to eight equivalent Ta and two equivalent Fe atoms. Both Fe–Fe bond lengths are 2.55 Å. P is bonded in a 10-coordinate geometry to eight equivalent Ta and two equivalent P atoms. Both P–P bond lengths are 2.55 Å.')[0]\n",
    "#mp-22444"
   ]
  },
  {
   "attachments": {},
   "cell_type": "markdown",
   "metadata": {},
   "source": [
    "# Make Prediction"
   ]
  },
  {
   "cell_type": "code",
   "execution_count": 40,
   "metadata": {},
   "outputs": [
    {
     "name": "stdout",
     "output_type": "stream",
     "text": [
      "output shape: 37\n",
      "output_ids length: 37\n",
      "text length: 18\n",
      "<s>Adsorbate *CH2*O is adsorbed on the catalytic surface S16K8Ga8 (mp-17650) with a Miller Index of (0, 1, 1).</s>\n"
     ]
    }
   ],
   "source": [
    "test_prompt = \"<mask> *CH2*O is adsorbed on the catalytic surface S16K8Ga8 (mp-17650) with a Miller Index of (0, 1, 1).\"\n",
    "# mp-17650, S16K8Ga8\n",
    "encoding = torch.tensor(tokenizer.encode(test_prompt))\n",
    "test_encoding = encoding.unsqueeze(0)\n",
    "output = model(test_encoding)['logits'][0]\n",
    "print('output shape:',  output.shape[0])\n",
    "output_ids = [np.argmax(o.detach()).item() for o in output]\n",
    "print('output_ids length:', len(output_ids))\n",
    "text = tokenizer.decode(output_ids)\n",
    "print('text length:', len(text.split(' ')))\n",
    "print(text)"
   ]
  }
 ],
 "metadata": {
  "kernelspec": {
   "display_name": "base",
   "language": "python",
   "name": "python3"
  },
  "language_info": {
   "codemirror_mode": {
    "name": "ipython",
    "version": 3
   },
   "file_extension": ".py",
   "mimetype": "text/x-python",
   "name": "python",
   "nbconvert_exporter": "python",
   "pygments_lexer": "ipython3",
   "version": "3.9.15"
  },
  "orig_nbformat": 4
 },
 "nbformat": 4,
 "nbformat_minor": 2
}
